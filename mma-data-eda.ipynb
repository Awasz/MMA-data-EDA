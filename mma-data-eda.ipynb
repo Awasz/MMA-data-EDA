{
 "cells": [
  {
   "cell_type": "code",
   "execution_count": 1,
   "id": "95ea5425",
   "metadata": {
    "_cell_guid": "b1076dfc-b9ad-4769-8c92-a6c4dae69d19",
    "_uuid": "8f2839f25d086af736a60e9eeb907d3b93b6e0e5",
    "execution": {
     "iopub.execute_input": "2023-08-13T12:03:47.099969Z",
     "iopub.status.busy": "2023-08-13T12:03:47.099365Z",
     "iopub.status.idle": "2023-08-13T12:03:47.675473Z",
     "shell.execute_reply": "2023-08-13T12:03:47.673274Z"
    },
    "papermill": {
     "duration": 0.594889,
     "end_time": "2023-08-13T12:03:47.678096",
     "exception": true,
     "start_time": "2023-08-13T12:03:47.083207",
     "status": "failed"
    },
    "tags": []
   },
   "outputs": [
    {
     "name": "stdout",
     "output_type": "stream",
     "text": [
      "/kaggle/input/pro-mma-fights/pro_mma_fights.csv\n"
     ]
    },
    {
     "ename": "NameError",
     "evalue": "name 'plt' is not defined",
     "output_type": "error",
     "traceback": [
      "\u001b[0;31m---------------------------------------------------------------------------\u001b[0m",
      "\u001b[0;31mNameError\u001b[0m                                 Traceback (most recent call last)",
      "Cell \u001b[0;32mIn[1], line 18\u001b[0m\n\u001b[1;32m     14\u001b[0m         \u001b[38;5;28mprint\u001b[39m(os\u001b[38;5;241m.\u001b[39mpath\u001b[38;5;241m.\u001b[39mjoin(dirname, filename))\n\u001b[1;32m     16\u001b[0m \u001b[38;5;66;03m# You can write up to 20GB to the current directory (/kaggle/working/) that gets preserved as output when you create a version using \"Save & Run All\" \u001b[39;00m\n\u001b[1;32m     17\u001b[0m \u001b[38;5;66;03m# You can also write temporary files to /kaggle/temp/, but they won't be saved outside of the current session\u001b[39;00m\n\u001b[0;32m---> 18\u001b[0m \u001b[43mplt\u001b[49m\u001b[38;5;241m.\u001b[39mstyle\u001b[38;5;241m.\u001b[39muse(\u001b[38;5;124m'\u001b[39m\u001b[38;5;124mggplot\u001b[39m\u001b[38;5;124m'\u001b[39m)\n",
      "\u001b[0;31mNameError\u001b[0m: name 'plt' is not defined"
     ]
    }
   ],
   "source": [
    "# This Python 3 environment comes with many helpful analytics libraries installed\n",
    "# It is defined by the kaggle/python Docker image: https://github.com/kaggle/docker-python\n",
    "# For example, here's several helpful packages to load\n",
    "\n",
    "import numpy as np # linear algebra\n",
    "import pandas as pd # data processing, CSV file I/O (e.g. pd.read_csv)\n",
    "\n",
    "# Input data files are available in the read-only \"../input/\" directory\n",
    "# For example, running this (by clicking run or pressing Shift+Enter) will list all files under the input directory\n",
    "\n",
    "import os\n",
    "for dirname, _, filenames in os.walk('/kaggle/input'):\n",
    "    for filename in filenames:\n",
    "        print(os.path.join(dirname, filename))\n",
    "\n",
    "# You can write up to 20GB to the current directory (/kaggle/working/) that gets preserved as output when you create a version using \"Save & Run All\" \n",
    "# You can also write temporary files to /kaggle/temp/, but they won't be saved outside of the current session\n",
    "plt.style.use('ggplot')"
   ]
  },
  {
   "cell_type": "code",
   "execution_count": null,
   "id": "451a60d8",
   "metadata": {
    "execution": {
     "iopub.execute_input": "2023-08-13T09:34:30.808953Z",
     "iopub.status.busy": "2023-08-13T09:34:30.807517Z",
     "iopub.status.idle": "2023-08-13T09:34:30.963188Z",
     "shell.execute_reply": "2023-08-13T09:34:30.961832Z",
     "shell.execute_reply.started": "2023-08-13T09:34:30.808896Z"
    },
    "papermill": {
     "duration": null,
     "end_time": null,
     "exception": null,
     "start_time": null,
     "status": "pending"
    },
    "tags": []
   },
   "outputs": [],
   "source": [
    "df=pd.read_csv('/kaggle/input/pro-mma-fights/pro_mma_fights.csv')"
   ]
  },
  {
   "cell_type": "code",
   "execution_count": null,
   "id": "d4e60321",
   "metadata": {
    "execution": {
     "iopub.execute_input": "2023-08-13T09:35:09.991187Z",
     "iopub.status.busy": "2023-08-13T09:35:09.990698Z",
     "iopub.status.idle": "2023-08-13T09:35:09.996845Z",
     "shell.execute_reply": "2023-08-13T09:35:09.995652Z",
     "shell.execute_reply.started": "2023-08-13T09:35:09.991153Z"
    },
    "papermill": {
     "duration": null,
     "end_time": null,
     "exception": null,
     "start_time": null,
     "status": "pending"
    },
    "tags": []
   },
   "outputs": [],
   "source": [
    "# Exploring and cleaning the data"
   ]
  },
  {
   "cell_type": "code",
   "execution_count": null,
   "id": "04031dba",
   "metadata": {
    "execution": {
     "iopub.execute_input": "2023-08-13T09:34:37.884028Z",
     "iopub.status.busy": "2023-08-13T09:34:37.883645Z",
     "iopub.status.idle": "2023-08-13T09:34:37.915556Z",
     "shell.execute_reply": "2023-08-13T09:34:37.914171Z",
     "shell.execute_reply.started": "2023-08-13T09:34:37.883995Z"
    },
    "papermill": {
     "duration": null,
     "end_time": null,
     "exception": null,
     "start_time": null,
     "status": "pending"
    },
    "tags": []
   },
   "outputs": [],
   "source": [
    "df.head()"
   ]
  },
  {
   "cell_type": "code",
   "execution_count": null,
   "id": "a1320c25",
   "metadata": {
    "execution": {
     "iopub.execute_input": "2023-08-13T09:37:57.142839Z",
     "iopub.status.busy": "2023-08-13T09:37:57.142354Z",
     "iopub.status.idle": "2023-08-13T09:37:57.275087Z",
     "shell.execute_reply": "2023-08-13T09:37:57.273934Z",
     "shell.execute_reply.started": "2023-08-13T09:37:57.142803Z"
    },
    "papermill": {
     "duration": null,
     "end_time": null,
     "exception": null,
     "start_time": null,
     "status": "pending"
    },
    "tags": []
   },
   "outputs": [],
   "source": [
    "df['date']=pd.to_datetime(df['date'])"
   ]
  },
  {
   "cell_type": "code",
   "execution_count": null,
   "id": "11604478",
   "metadata": {
    "execution": {
     "iopub.execute_input": "2023-08-13T09:46:27.250701Z",
     "iopub.status.busy": "2023-08-13T09:46:27.250291Z",
     "iopub.status.idle": "2023-08-13T09:46:27.271332Z",
     "shell.execute_reply": "2023-08-13T09:46:27.270381Z",
     "shell.execute_reply.started": "2023-08-13T09:46:27.250660Z"
    },
    "papermill": {
     "duration": null,
     "end_time": null,
     "exception": null,
     "start_time": null,
     "status": "pending"
    },
    "tags": []
   },
   "outputs": [],
   "source": [
    "df.head()"
   ]
  },
  {
   "cell_type": "markdown",
   "id": "10e31835",
   "metadata": {
    "papermill": {
     "duration": null,
     "end_time": null,
     "exception": null,
     "start_time": null,
     "status": "pending"
    },
    "tags": []
   },
   "source": [
    "# EDA is the way"
   ]
  },
  {
   "cell_type": "markdown",
   "id": "f5a66642",
   "metadata": {
    "papermill": {
     "duration": null,
     "end_time": null,
     "exception": null,
     "start_time": null,
     "status": "pending"
    },
    "tags": []
   },
   "source": []
  },
  {
   "cell_type": "code",
   "execution_count": null,
   "id": "11081580",
   "metadata": {
    "execution": {
     "iopub.execute_input": "2023-08-13T09:42:29.819015Z",
     "iopub.status.busy": "2023-08-13T09:42:29.818582Z",
     "iopub.status.idle": "2023-08-13T09:42:29.830169Z",
     "shell.execute_reply": "2023-08-13T09:42:29.828696Z",
     "shell.execute_reply.started": "2023-08-13T09:42:29.818983Z"
    },
    "papermill": {
     "duration": null,
     "end_time": null,
     "exception": null,
     "start_time": null,
     "status": "pending"
    },
    "tags": []
   },
   "outputs": [],
   "source": [
    "#Drop the columns that don't contribute to insights\n",
    "df.drop(columns=['url', 'fighter1_url', 'fighter2_url'], inplace=True)\n"
   ]
  },
  {
   "cell_type": "code",
   "execution_count": null,
   "id": "0c5564d6",
   "metadata": {
    "execution": {
     "iopub.execute_input": "2023-08-13T09:42:51.258779Z",
     "iopub.status.busy": "2023-08-13T09:42:51.258298Z",
     "iopub.status.idle": "2023-08-13T09:42:51.327356Z",
     "shell.execute_reply": "2023-08-13T09:42:51.325906Z",
     "shell.execute_reply.started": "2023-08-13T09:42:51.258721Z"
    },
    "papermill": {
     "duration": null,
     "end_time": null,
     "exception": null,
     "start_time": null,
     "status": "pending"
    },
    "tags": []
   },
   "outputs": [],
   "source": [
    "#Look at the type of each data\n",
    "df.info()"
   ]
  },
  {
   "cell_type": "code",
   "execution_count": null,
   "id": "082b7cf0",
   "metadata": {
    "execution": {
     "iopub.execute_input": "2023-08-13T09:45:30.566605Z",
     "iopub.status.busy": "2023-08-13T09:45:30.565543Z",
     "iopub.status.idle": "2023-08-13T09:45:30.580435Z",
     "shell.execute_reply": "2023-08-13T09:45:30.578800Z",
     "shell.execute_reply.started": "2023-08-13T09:45:30.566551Z"
    },
    "papermill": {
     "duration": null,
     "end_time": null,
     "exception": null,
     "start_time": null,
     "status": "pending"
    },
    "tags": []
   },
   "outputs": [],
   "source": [
    "#Count of each organisation present in the data \n",
    "df.organisation.value_counts()"
   ]
  },
  {
   "cell_type": "markdown",
   "id": "dd8032e3",
   "metadata": {
    "papermill": {
     "duration": null,
     "end_time": null,
     "exception": null,
     "start_time": null,
     "status": "pending"
    },
    "tags": []
   },
   "source": [
    "UFC makes the biggest contribution to the total number "
   ]
  },
  {
   "cell_type": "code",
   "execution_count": null,
   "id": "ba936ccd",
   "metadata": {
    "execution": {
     "iopub.execute_input": "2023-08-13T09:45:46.410919Z",
     "iopub.status.busy": "2023-08-13T09:45:46.410420Z",
     "iopub.status.idle": "2023-08-13T09:45:46.419464Z",
     "shell.execute_reply": "2023-08-13T09:45:46.417982Z",
     "shell.execute_reply.started": "2023-08-13T09:45:46.410877Z"
    },
    "papermill": {
     "duration": null,
     "end_time": null,
     "exception": null,
     "start_time": null,
     "status": "pending"
    },
    "tags": []
   },
   "outputs": [],
   "source": [
    "df.shape"
   ]
  },
  {
   "cell_type": "code",
   "execution_count": null,
   "id": "c7db28be",
   "metadata": {
    "execution": {
     "iopub.execute_input": "2023-08-13T09:45:56.490846Z",
     "iopub.status.busy": "2023-08-13T09:45:56.489892Z",
     "iopub.status.idle": "2023-08-13T09:45:56.539916Z",
     "shell.execute_reply": "2023-08-13T09:45:56.538419Z",
     "shell.execute_reply.started": "2023-08-13T09:45:56.490806Z"
    },
    "papermill": {
     "duration": null,
     "end_time": null,
     "exception": null,
     "start_time": null,
     "status": "pending"
    },
    "tags": []
   },
   "outputs": [],
   "source": [
    "#Check our data for missing values\n",
    "df.isnull().sum()"
   ]
  },
  {
   "cell_type": "markdown",
   "id": "27daf553",
   "metadata": {
    "papermill": {
     "duration": null,
     "end_time": null,
     "exception": null,
     "start_time": null,
     "status": "pending"
    },
    "tags": []
   },
   "source": [
    "Fighter with the most KO"
   ]
  },
  {
   "cell_type": "code",
   "execution_count": null,
   "id": "b867f6d6",
   "metadata": {
    "execution": {
     "iopub.execute_input": "2023-08-13T09:49:23.900127Z",
     "iopub.status.busy": "2023-08-13T09:49:23.898709Z",
     "iopub.status.idle": "2023-08-13T09:49:23.941894Z",
     "shell.execute_reply": "2023-08-13T09:49:23.939717Z",
     "shell.execute_reply.started": "2023-08-13T09:49:23.900087Z"
    },
    "papermill": {
     "duration": null,
     "end_time": null,
     "exception": null,
     "start_time": null,
     "status": "pending"
    },
    "tags": []
   },
   "outputs": [],
   "source": [
    "# Split the text by hyphen and keep the first part\n",
    "df['event_title'] = df['event_title'].str.split('-').str[0]\n"
   ]
  },
  {
   "cell_type": "code",
   "execution_count": null,
   "id": "cbadf68f",
   "metadata": {
    "execution": {
     "iopub.execute_input": "2023-08-13T11:44:54.017835Z",
     "iopub.status.busy": "2023-08-13T11:44:54.017363Z",
     "iopub.status.idle": "2023-08-13T11:44:54.612057Z",
     "shell.execute_reply": "2023-08-13T11:44:54.610806Z",
     "shell.execute_reply.started": "2023-08-13T11:44:54.017800Z"
    },
    "papermill": {
     "duration": null,
     "end_time": null,
     "exception": null,
     "start_time": null,
     "status": "pending"
    },
    "tags": []
   },
   "outputs": [],
   "source": [
    "#import visualisation packages\n",
    "import matplotlib.pylab as plt\n",
    "import seaborn as sns\n",
    "# Calculate the top 20 ways the fights finish\n",
    "top_ways = df['win_method'].value_counts().head(20)\n",
    "\n",
    "ax=sns.barplot(data=df, y=top_ways.index,x=top_ways.values)\n",
    "ax.set_ylabel('win method')\n",
    "ax.set_xlabel('Counts of winning methods')\n",
    "ax.set_title('Top 20 ways the fight usually end')\n",
    "plt.xticks(rotation=90)  # Rotate x-axis labels for better visibility\n",
    "plt.tight_layout()\n",
    "plt.show()\n"
   ]
  },
  {
   "cell_type": "markdown",
   "id": "2f76ca85",
   "metadata": {
    "papermill": {
     "duration": null,
     "end_time": null,
     "exception": null,
     "start_time": null,
     "status": "pending"
    },
    "tags": []
   },
   "source": []
  },
  {
   "cell_type": "code",
   "execution_count": null,
   "id": "b8d0c5d6",
   "metadata": {
    "execution": {
     "iopub.execute_input": "2023-08-13T10:44:26.787236Z",
     "iopub.status.busy": "2023-08-13T10:44:26.786791Z",
     "iopub.status.idle": "2023-08-13T10:44:26.796567Z",
     "shell.execute_reply": "2023-08-13T10:44:26.795163Z",
     "shell.execute_reply.started": "2023-08-13T10:44:26.787201Z"
    },
    "papermill": {
     "duration": null,
     "end_time": null,
     "exception": null,
     "start_time": null,
     "status": "pending"
    },
    "tags": []
   },
   "outputs": [],
   "source": [
    "#Get the columns names\n",
    "df.columns"
   ]
  },
  {
   "cell_type": "markdown",
   "id": "fdf711c8",
   "metadata": {
    "papermill": {
     "duration": null,
     "end_time": null,
     "exception": null,
     "start_time": null,
     "status": "pending"
    },
    "tags": []
   },
   "source": [
    "#  Fighter with most KO win"
   ]
  },
  {
   "cell_type": "code",
   "execution_count": null,
   "id": "98238c11",
   "metadata": {
    "execution": {
     "iopub.execute_input": "2023-08-13T10:49:39.336362Z",
     "iopub.status.busy": "2023-08-13T10:49:39.335836Z",
     "iopub.status.idle": "2023-08-13T10:49:39.352239Z",
     "shell.execute_reply": "2023-08-13T10:49:39.350758Z",
     "shell.execute_reply.started": "2023-08-13T10:49:39.336326Z"
    },
    "papermill": {
     "duration": null,
     "end_time": null,
     "exception": null,
     "start_time": null,
     "status": "pending"
    },
    "tags": []
   },
   "outputs": [],
   "source": [
    "import pandas as pd\n",
    "\n",
    "# Assuming 'win_method' is the column containing the method of winning\n",
    "ko_wins = df[df['win_method'] == 'KO']\n",
    "\n",
    "# Count the number of KO wins for each fighter\n",
    "ko_wins_counts = ko_wins['fighter1_name'].value_counts()\n",
    "\n",
    "# Get the fighter with the most KO wins\n",
    "most_ko_wins_fighter = ko_wins_counts.idxmax()\n",
    "most_ko_wins_count = ko_wins_counts.max()\n",
    "\n",
    "print(\"Fighter with the most KO wins:\", most_ko_wins_fighter)\n",
    "print(\"Number of KO wins:\", most_ko_wins_count)\n"
   ]
  },
  {
   "cell_type": "markdown",
   "id": "2653778f",
   "metadata": {
    "papermill": {
     "duration": null,
     "end_time": null,
     "exception": null,
     "start_time": null,
     "status": "pending"
    },
    "tags": []
   },
   "source": [
    "# Fighter with most decision wins"
   ]
  },
  {
   "cell_type": "code",
   "execution_count": null,
   "id": "ed9b9c1e",
   "metadata": {
    "execution": {
     "iopub.execute_input": "2023-08-13T11:51:47.943330Z",
     "iopub.status.busy": "2023-08-13T11:51:47.942883Z",
     "iopub.status.idle": "2023-08-13T11:51:47.959039Z",
     "shell.execute_reply": "2023-08-13T11:51:47.957769Z",
     "shell.execute_reply.started": "2023-08-13T11:51:47.943299Z"
    },
    "papermill": {
     "duration": null,
     "end_time": null,
     "exception": null,
     "start_time": null,
     "status": "pending"
    },
    "tags": []
   },
   "outputs": [],
   "source": [
    "# Assuming 'win_method' is the column containing the method of winning\n",
    "decision_wins = df[df['win_method'] == 'Decision']\n",
    "\n",
    "# Count the number of decision wins for each fighter\n",
    "decision_wins_counts = decision_wins['fighter1_name'].value_counts()\n",
    "\n",
    "# Get the fighter with the most decision wins\n",
    "most_decision_wins_fighter = decision_wins_counts.idxmax()\n",
    "most_decision_wins_count = decision_wins_counts.max()\n",
    "\n",
    "print(\"Fighter with the most decision wins:\", most_decision_wins_fighter)\n",
    "print(\"Number of decision wins:\", most_decision_wins_count)"
   ]
  },
  {
   "cell_type": "markdown",
   "id": "30d9cd0b",
   "metadata": {
    "papermill": {
     "duration": null,
     "end_time": null,
     "exception": null,
     "start_time": null,
     "status": "pending"
    },
    "tags": []
   },
   "source": [
    "# Fighter with most decision loss"
   ]
  },
  {
   "cell_type": "code",
   "execution_count": null,
   "id": "d151eb74",
   "metadata": {
    "execution": {
     "iopub.execute_input": "2023-08-13T11:54:10.913047Z",
     "iopub.status.busy": "2023-08-13T11:54:10.912595Z",
     "iopub.status.idle": "2023-08-13T11:54:10.929016Z",
     "shell.execute_reply": "2023-08-13T11:54:10.928041Z",
     "shell.execute_reply.started": "2023-08-13T11:54:10.913015Z"
    },
    "papermill": {
     "duration": null,
     "end_time": null,
     "exception": null,
     "start_time": null,
     "status": "pending"
    },
    "tags": []
   },
   "outputs": [],
   "source": [
    "# Assuming 'win_method' is the column containing the method of winning\n",
    "decision_loss = df[df['win_method'] == 'Decision']\n",
    "\n",
    "# Count the number of decision losses for each fighter\n",
    "decision_loss_counts = decision_wins['fighter2_name'].value_counts()\n",
    "\n",
    "# Get the fighter with the most decision loss\n",
    "most_decision_loss_fighter = decision_loss_counts.idxmax()\n",
    "most_decision_loss_count = decision_loss_counts.max()\n",
    "\n",
    "print(\"Fighter with the most decision losses:\", most_decision_loss_fighter)\n",
    "print(\"Number of decision losses:\", most_decision_loss_count)"
   ]
  },
  {
   "cell_type": "markdown",
   "id": "0f885d28",
   "metadata": {
    "papermill": {
     "duration": null,
     "end_time": null,
     "exception": null,
     "start_time": null,
     "status": "pending"
    },
    "tags": []
   },
   "source": [
    "# Fighter with the most KO loss"
   ]
  },
  {
   "cell_type": "code",
   "execution_count": null,
   "id": "21b548ef",
   "metadata": {
    "execution": {
     "iopub.execute_input": "2023-08-13T11:56:25.256684Z",
     "iopub.status.busy": "2023-08-13T11:56:25.256182Z",
     "iopub.status.idle": "2023-08-13T11:56:25.271523Z",
     "shell.execute_reply": "2023-08-13T11:56:25.270536Z",
     "shell.execute_reply.started": "2023-08-13T11:56:25.256649Z"
    },
    "papermill": {
     "duration": null,
     "end_time": null,
     "exception": null,
     "start_time": null,
     "status": "pending"
    },
    "tags": []
   },
   "outputs": [],
   "source": [
    "# Assuming 'win_method' is the column containing the method of winning\n",
    "ko_wins = df[df['win_method'] == 'KO']\n",
    "\n",
    "# Count the number of KO loss for each fighter\n",
    "ko_loss_counts = ko_wins['fighter2_name'].value_counts()\n",
    "\n",
    "# Get the fighter with the most KO loss\n",
    "most_ko_loss_fighter = ko_loss_counts.idxmax()\n",
    "most_ko_loss_count = ko_loss_counts.max()\n",
    "\n",
    "print(\"Fighter with the most KO losses:\", most_ko_loss_fighter)\n",
    "print(\"Number of KO losses:\", most_ko_loss_count)"
   ]
  },
  {
   "cell_type": "code",
   "execution_count": null,
   "id": "8e8d5d88",
   "metadata": {
    "papermill": {
     "duration": null,
     "end_time": null,
     "exception": null,
     "start_time": null,
     "status": "pending"
    },
    "tags": []
   },
   "outputs": [],
   "source": []
  },
  {
   "cell_type": "code",
   "execution_count": null,
   "id": "af3b72f2",
   "metadata": {
    "execution": {
     "iopub.execute_input": "2023-08-13T11:45:40.353643Z",
     "iopub.status.busy": "2023-08-13T11:45:40.353143Z",
     "iopub.status.idle": "2023-08-13T11:45:40.942641Z",
     "shell.execute_reply": "2023-08-13T11:45:40.941121Z",
     "shell.execute_reply.started": "2023-08-13T11:45:40.353604Z"
    },
    "papermill": {
     "duration": null,
     "end_time": null,
     "exception": null,
     "start_time": null,
     "status": "pending"
    },
    "tags": []
   },
   "outputs": [],
   "source": [
    "#Analyze the top 20 location where the fight takes place\n",
    "df['location'].value_counts().head(20).plot(kind='barh',title='Top 20 Fight Location')"
   ]
  },
  {
   "cell_type": "markdown",
   "id": "538f41b7",
   "metadata": {
    "papermill": {
     "duration": null,
     "end_time": null,
     "exception": null,
     "start_time": null,
     "status": "pending"
    },
    "tags": []
   },
   "source": [
    "MGM Grand Garden Arena is the most popular fight venue which was expected"
   ]
  },
  {
   "cell_type": "code",
   "execution_count": null,
   "id": "571e65af",
   "metadata": {
    "papermill": {
     "duration": null,
     "end_time": null,
     "exception": null,
     "start_time": null,
     "status": "pending"
    },
    "tags": []
   },
   "outputs": [],
   "source": []
  },
  {
   "cell_type": "code",
   "execution_count": null,
   "id": "c4982f19",
   "metadata": {
    "papermill": {
     "duration": null,
     "end_time": null,
     "exception": null,
     "start_time": null,
     "status": "pending"
    },
    "tags": []
   },
   "outputs": [],
   "source": []
  }
 ],
 "metadata": {
  "kernelspec": {
   "display_name": "Python 3",
   "language": "python",
   "name": "python3"
  },
  "language_info": {
   "codemirror_mode": {
    "name": "ipython",
    "version": 3
   },
   "file_extension": ".py",
   "mimetype": "text/x-python",
   "name": "python",
   "nbconvert_exporter": "python",
   "pygments_lexer": "ipython3",
   "version": "3.10.12"
  },
  "papermill": {
   "default_parameters": {},
   "duration": 15.480622,
   "end_time": "2023-08-13T12:03:48.916081",
   "environment_variables": {},
   "exception": true,
   "input_path": "__notebook__.ipynb",
   "output_path": "__notebook__.ipynb",
   "parameters": {},
   "start_time": "2023-08-13T12:03:33.435459",
   "version": "2.4.0"
  }
 },
 "nbformat": 4,
 "nbformat_minor": 5
}
